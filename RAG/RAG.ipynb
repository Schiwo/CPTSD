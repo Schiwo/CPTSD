{
 "cells": [
  {
   "cell_type": "code",
   "execution_count": null,
   "metadata": {},
   "outputs": [],
   "source": [
    "import pandas as pd\n",
    "import re\n",
    "import pickle\n",
    "from langchain.document_loaders import PyMuPDFLoader\n",
    "from langchain.text_splitter import RecursiveCharacterTextSplitter\n",
    "from langchain.embeddings.openai import OpenAIEmbeddings\n",
    "from langchain.embeddings import CacheBackedEmbeddings\n",
    "from langchain.vectorstores import FAISS\n",
    "from langchain.storage import LocalFileStore\n",
    "from langchain.prompts import ChatPromptTemplate\n",
    "from langchain.llms.openai import OpenAIChat\n",
    "from langchain.chains import RetrievalQA\n",
    "from langchain.callbacks import StdOutCallbackHandler"
   ]
  },
  {
   "cell_type": "code",
   "execution_count": null,
   "metadata": {},
   "outputs": [],
   "source": [
    "api_key = \"YOUR OPENAI API KEY\""
   ]
  },
  {
   "cell_type": "code",
   "execution_count": null,
   "metadata": {},
   "outputs": [],
   "source": [
    "df = pd.read_excel('Transcription Excel data.xlsx')"
   ]
  },
  {
   "cell_type": "code",
   "execution_count": null,
   "metadata": {},
   "outputs": [],
   "source": [
    "document_loader = PyMuPDFLoader('DSM-5 Pdf.pdf')\n",
    "document = document_loader.load()"
   ]
  },
  {
   "cell_type": "code",
   "execution_count": null,
   "metadata": {},
   "outputs": [],
   "source": [
    "text_splitter = RecursiveCharacterTextSplitter(\n",
    "    chunk_size = 500,\n",
    "    chunk_overlap = 50,\n",
    "    length_function = len\n",
    ")\n",
    "\n",
    "documnet_chunks = text_splitter.transform_documents(document)"
   ]
  },
  {
   "cell_type": "code",
   "execution_count": null,
   "metadata": {},
   "outputs": [],
   "source": [
    "store = LocalFileStore('./document_cache/')\n",
    "\n",
    "# create an embedder\n",
    "#text-embedding-ada\n",
    "core_embeddings_model = OpenAIEmbeddings(openai_api_key=api_key) \n",
    "\n",
    "embedder = CacheBackedEmbeddings.from_bytes_store(\n",
    "    core_embeddings_model,\n",
    "    store,\n",
    "    namespace = core_embeddings_model.model\n",
    ")\n",
    "# store embeddings in vector store\n",
    "vectorstore = FAISS.from_documents(documnet_chunks, embedder)"
   ]
  },
  {
   "cell_type": "code",
   "execution_count": null,
   "metadata": {},
   "outputs": [],
   "source": [
    "# instantiate a retriever\n",
    "retriever = vectorstore.as_retriever()"
   ]
  },
  {
   "cell_type": "code",
   "execution_count": null,
   "metadata": {},
   "outputs": [],
   "source": [
    "# OpenAI GPT-4 8k \n",
    "llm = OpenAIChat(openai_api_key=api_key,model_name=\"gpt-4\")\n",
    "handler =  StdOutCallbackHandler()\n",
    "\n",
    "template = \"\"\"아래의 내용에 기반하여 질문에 답하여라:\n",
    "{context}\n",
    "\n",
    "질문: 정신건강의학적으로 유의미한 증상에는 [각 환자의 증상 목록]가 있다. 다음 I와 환자(P7,P9...)의 상담 내용을 보고 정신건강의학적으로 유의미한 증상이 있다면 해당 증상과 이를 시사하는 구획을 추출하라. 만약 유의미한 증상이 없다면 '해당없음'이라고 대답하라. \n",
    "- I와 환자(P7,P9...)의 상담 내용 : {question}\n",
    "\n",
    "답변:\n",
    "- 증상 :\n",
    "- 구획 :\n",
    "\"\"\""
   ]
  },
  {
   "cell_type": "code",
   "execution_count": null,
   "metadata": {},
   "outputs": [],
   "source": [
    "prompt = ChatPromptTemplate.from_template(template)\n",
    "\n",
    "chain_type_kwargs = {\"prompt\":prompt}\n",
    "\n",
    "qa_chain = RetrievalQA.from_chain_type(\n",
    "    llm=llm,\n",
    "    retriever=retriever,\n",
    "    callbacks=[handler],\n",
    "    return_source_documents=True,\n",
    "    chain_type_kwargs=chain_type_kwargs\n",
    ")"
   ]
  },
  {
   "cell_type": "code",
   "execution_count": null,
   "metadata": {},
   "outputs": [],
   "source": [
    "def RAG(df):\n",
    "    \n",
    "    df['Estimated_Symptom'] = ''\n",
    "    df['Estimated_Section'] = ''\n",
    "    \n",
    "    for idx,row in df.iterrows():\n",
    "        \n",
    "        question = row['Statement']\n",
    "        \n",
    "        response = qa_chain({'query':question})\n",
    "        \n",
    "        with open(f'rag_dsm5_results_p7/result_{idx}.pkl','wb') as f:\n",
    "            pickle.dump(response,f)\n",
    "        \n",
    "        symptom = re.search(r'- 증상 : (.*)', response['result'])\n",
    "        section = re.search(r'- 구획 : (.*)', response['result'])\n",
    "        \n",
    "        documents = [i for i in response['source_documents']]\n",
    "        \n",
    "        if symptom == None:\n",
    "        \n",
    "            df.at[idx,'Estimated_Symptom'] = '해당없음'\n",
    "            df.at[idx,'Estimated_Section'] = '해당없음'\n",
    "            \n",
    "        if symptom != None:\n",
    "            \n",
    "            try:\n",
    "                df.at[idx,'Estimated_Symptom'] = symptom.group(1).lstrip(': ').strip()\n",
    "                \n",
    "            except:\n",
    "                df.at[idx,'Estimated_Symptom'] = '해당없음'\n",
    "            \n",
    "            try:\n",
    "                df.at[idx,'Estimated_Section'] = section.group(1).lstrip(': ').strip()\n",
    "            \n",
    "            except:\n",
    "                df.at[idx,'Estimated_section'] = '해당없음'\n",
    "            \n",
    "    return df\n",
    "        "
   ]
  },
  {
   "cell_type": "code",
   "execution_count": null,
   "metadata": {},
   "outputs": [],
   "source": [
    "result = RAG(df)\n",
    "result.to_excel('RAG Excel data.xlsx',index=False)"
   ]
  }
 ],
 "metadata": {
  "kernelspec": {
   "display_name": "pyenv3109",
   "language": "python",
   "name": "python3"
  },
  "language_info": {
   "codemirror_mode": {
    "name": "ipython",
    "version": 3
   },
   "file_extension": ".py",
   "mimetype": "text/x-python",
   "name": "python",
   "nbconvert_exporter": "python",
   "pygments_lexer": "ipython3",
   "version": "3.10.9"
  },
  "orig_nbformat": 4
 },
 "nbformat": 4,
 "nbformat_minor": 2
}
