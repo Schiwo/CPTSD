{
 "cells": [
  {
   "cell_type": "code",
   "execution_count": 1,
   "metadata": {},
   "outputs": [],
   "source": [
    "import os\n",
    "import openai\n",
    "import csv\n",
    "import pandas as pd\n",
    "import re\n",
    "import json"
   ]
  },
  {
   "cell_type": "code",
   "execution_count": 2,
   "metadata": {},
   "outputs": [],
   "source": [
    "ur_key = \"ur_key\"\n",
    "client = openai.Client(api_key=ur_key)"
   ]
  },
  {
   "cell_type": "markdown",
   "metadata": {},
   "source": [
    "Upload file"
   ]
  },
  {
   "cell_type": "code",
   "execution_count": null,
   "metadata": {},
   "outputs": [],
   "source": [
    "ur_file = \"ur_file\"\n",
    "\n",
    "\n",
    "client.files.create(\n",
    "  file=open(ur_file , \"rb\"),\n",
    "  purpose=\"fine-tune\"\n",
    ")"
   ]
  },
  {
   "cell_type": "markdown",
   "metadata": {},
   "source": [
    "# epoch 5, lr 0.05"
   ]
  },
  {
   "cell_type": "code",
   "execution_count": null,
   "metadata": {},
   "outputs": [],
   "source": [
    "client.fine_tuning.jobs.create(\n",
    "  training_file=\"\",\n",
    "  model= \"gpt-3.5-turbo\",\n",
    "  suffix= \"val-epoch5-lr0.01\",\n",
    "  hyperparameters={\n",
    "    \"n_epochs\":5,\n",
    "    \"learning_rate_multiplier\":0.05\n",
    "  }\n",
    ")"
   ]
  },
  {
   "cell_type": "markdown",
   "metadata": {},
   "source": [
    "# epoch 5, lr 0.1"
   ]
  },
  {
   "cell_type": "code",
   "execution_count": null,
   "metadata": {},
   "outputs": [],
   "source": [
    "client.fine_tuning.jobs.create(\n",
    "  training_file=\"\",\n",
    "  model= \"gpt-3.5-turbo\",\n",
    "  suffix= \"val-epoch5-lr0.1\",\n",
    "  hyperparameters={\n",
    "    \"n_epochs\":5,\n",
    "    \"learning_rate_multiplier\":0.1\n",
    "  }\n",
    ")"
   ]
  },
  {
   "cell_type": "markdown",
   "metadata": {},
   "source": [
    "# epoch 5, lr 0.2"
   ]
  },
  {
   "cell_type": "code",
   "execution_count": null,
   "metadata": {},
   "outputs": [],
   "source": [
    "client.fine_tuning.jobs.create(\n",
    "  training_file=\"\",\n",
    "  model= \"gpt-3.5-turbo\",\n",
    "  suffix= \"val-epoch5-lr0.2\",\n",
    "  hyperparameters={\n",
    "    \"n_epochs\":5,\n",
    "    \"learning_rate_multiplier\":0.2\n",
    "  }\n",
    ")"
   ]
  },
  {
   "cell_type": "markdown",
   "metadata": {},
   "source": [
    "# epoch 10, lr 0.05"
   ]
  },
  {
   "cell_type": "code",
   "execution_count": null,
   "metadata": {},
   "outputs": [],
   "source": [
    "client.fine_tuning.jobs.create(\n",
    "  training_file=\"\",\n",
    "  model= \"gpt-3.5-turbo\",\n",
    "  suffix= \"val-epoch10-lr0.05\",\n",
    "  hyperparameters={\n",
    "    \"n_epochs\":10,\n",
    "    \"learning_rate_multiplier\":0.05\n",
    "  }\n",
    ")"
   ]
  },
  {
   "cell_type": "markdown",
   "metadata": {},
   "source": [
    "# epoch 10, lr 0.1"
   ]
  },
  {
   "cell_type": "code",
   "execution_count": null,
   "metadata": {},
   "outputs": [],
   "source": [
    "client.fine_tuning.jobs.create(\n",
    "  training_file=\"\",\n",
    "  model= \"gpt-3.5-turbo\",\n",
    "  suffix= \"val-epoch10-lr0.1\",\n",
    "  hyperparameters={\n",
    "    \"n_epochs\":10,\n",
    "    \"learning_rate_multiplier\":0.1\n",
    "  }\n",
    ")"
   ]
  },
  {
   "cell_type": "markdown",
   "metadata": {},
   "source": [
    "# epoch 10, lr 0.2"
   ]
  },
  {
   "cell_type": "code",
   "execution_count": null,
   "metadata": {},
   "outputs": [],
   "source": [
    "client.fine_tuning.jobs.create(\n",
    "  training_file=\"\",\n",
    "  model= \"gpt-3.5-turbo\",\n",
    "  suffix= \"val-epoch10-lr0.2\",\n",
    "  hyperparameters={\n",
    "    \"n_epochs\":10,\n",
    "    \"learning_rate_multiplier\":0.2\n",
    "  }\n",
    ")"
   ]
  },
  {
   "cell_type": "markdown",
   "metadata": {},
   "source": [
    "# epoch default(3), lr 0.05"
   ]
  },
  {
   "cell_type": "code",
   "execution_count": null,
   "metadata": {},
   "outputs": [],
   "source": [
    "client = openai.Client(api_key=ur_key)\n",
    "\n",
    "client.fine_tuning.jobs.create(\n",
    "  training_file=\"\",\n",
    "  model= \"gpt-3.5-turbo\",\n",
    "  suffix= \"val-epoch-d-lr0.05\",\n",
    "  hyperparameters={\n",
    "    \"learning_rate_multiplier\":0.05\n",
    "  }\n",
    ")\n"
   ]
  },
  {
   "cell_type": "markdown",
   "metadata": {},
   "source": [
    "# epoch default, lr 0.1"
   ]
  },
  {
   "cell_type": "code",
   "execution_count": null,
   "metadata": {},
   "outputs": [],
   "source": [
    "client = openai.Client(api_key=ur_key)\n",
    "\n",
    "client.fine_tuning.jobs.create(\n",
    "  training_file=\"\",\n",
    "  model= \"gpt-3.5-turbo\",\n",
    "  suffix= \"val-epoch-d-lr0.1\",\n",
    "  hyperparameters={\n",
    "    \"learning_rate_multiplier\":0.1\n",
    "  }\n",
    ")"
   ]
  },
  {
   "cell_type": "markdown",
   "metadata": {},
   "source": [
    "# epoch default, lr 0.2"
   ]
  },
  {
   "cell_type": "code",
   "execution_count": null,
   "metadata": {},
   "outputs": [],
   "source": [
    "client = openai.Client(api_key=ur_key)\n",
    "\n",
    "client.fine_tuning.jobs.create(\n",
    "  training_file=\"\",\n",
    "  model= \"gpt-3.5-turbo\",\n",
    "  suffix= \"val-epoch-d-lr0.2\",\n",
    "  hyperparameters={\n",
    "    \"learning_rate_multiplier\":0.2\n",
    "  }\n",
    ")"
   ]
  },
  {
   "cell_type": "markdown",
   "metadata": {},
   "source": [
    "# epoch 5, lr default"
   ]
  },
  {
   "cell_type": "code",
   "execution_count": null,
   "metadata": {},
   "outputs": [],
   "source": [
    "client = openai.Client(api_key=ur_key)\n",
    "\n",
    "client.fine_tuning.jobs.create(\n",
    "  training_file=\"\",\n",
    "  model= \"gpt-3.5-turbo\",\n",
    "  suffix= \"val-epoch-5-lr-d\",\n",
    "  hyperparameters={\n",
    "    \"n_epochs\":5\n",
    "  }\n",
    ")"
   ]
  },
  {
   "cell_type": "markdown",
   "metadata": {},
   "source": [
    "# epoch 5, lr 0.5"
   ]
  },
  {
   "cell_type": "code",
   "execution_count": null,
   "metadata": {},
   "outputs": [],
   "source": [
    "client = openai.Client(api_key=\"\")\n",
    "\n",
    "client.fine_tuning.jobs.create(\n",
    "  training_file=\"\",\n",
    "  model= \"gpt-3.5-turbo\",\n",
    "  suffix= \"val-epoch-5-lr-0.5\",\n",
    "  hyperparameters={\n",
    "    \"n_epochs\":5,\n",
    "    \"learning_rate_multiplier\":0.5\n",
    "  }\n",
    ")"
   ]
  },
  {
   "cell_type": "markdown",
   "metadata": {},
   "source": [
    "# epoch 5, lr 1"
   ]
  },
  {
   "cell_type": "code",
   "execution_count": null,
   "metadata": {},
   "outputs": [],
   "source": [
    "client = openai.Client(api_key=\"\")\n",
    "\n",
    "client.fine_tuning.jobs.create(\n",
    "  training_file=\"\",\n",
    "  model= \"gpt-3.5-turbo\",\n",
    "  suffix= \"val-epoch-5-lr-1\",\n",
    "  hyperparameters={\n",
    "    \"n_epochs\":5,\n",
    "    \"learning_rate_multiplier\":1\n",
    "  }\n",
    ")"
   ]
  }
 ],
 "metadata": {
  "kernelspec": {
   "display_name": "Python 3",
   "language": "python",
   "name": "python3"
  },
  "language_info": {
   "codemirror_mode": {
    "name": "ipython",
    "version": 3
   },
   "file_extension": ".py",
   "mimetype": "text/x-python",
   "name": "python",
   "nbconvert_exporter": "python",
   "pygments_lexer": "ipython3",
   "version": "3.10.11"
  }
 },
 "nbformat": 4,
 "nbformat_minor": 2
}
